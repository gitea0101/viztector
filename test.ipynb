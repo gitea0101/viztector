{
 "cells": [
  {
   "cell_type": "code",
   "execution_count": 155,
   "metadata": {},
   "outputs": [
    {
     "name": "stdout",
     "output_type": "stream",
     "text": [
      "Preloading KPGrouping model\n",
      "Loading KPGrouping model\n",
      "Configuration file loading complete\n",
      "Config loading complete\n",
      "Loading parameters at iteration: best\n",
      "Label file: None\n",
      "Building neural network...\n",
      "Import complete\n",
      "Keypoint grouping enabled.\n",
      "Initiating losses\n",
      "Total parameters: 199641774\n",
      "Loading parameters...\n",
      "Loading model from ./cache/nnet\\KPGrouping\\KPGrouping_best.pkl\n",
      "Predicting with KPGrouping net\n"
     ]
    },
    {
     "name": "stderr",
     "output_type": "stream",
     "text": [
      "c:\\Users\\admin\\miniconda3\\envs\\pjt\\Lib\\site-packages\\torch\\nn\\modules\\transformer.py:306: UserWarning: enable_nested_tensor is True, but self.use_nested_tensor is False because encoder_layer.self_attn.batch_first was not True(use batch_first for better inference performance)\n",
      "  warnings.warn(f\"enable_nested_tensor is True, but self.use_nested_tensor is False because {why_not_sparsity_fast_path}\")\n",
      "\n",
      "  0%|          | 0/4 [00:00<?, ?it/s]\n",
      " 25%|██▌       | 1/4 [00:01<00:03,  1.06s/it]\n",
      " 50%|█████     | 2/4 [00:02<00:03,  1.57s/it]\n",
      " 75%|███████▌  | 3/4 [00:04<00:01,  1.43s/it][ WARN:0@6.540] global loadsave.cpp:248 cv::findDecoder imread_('./img/images\\val\\새 폴더'): can't open/read file: check file path/integrity\n",
      "\n",
      "100%|██████████| 4/4 [00:04<00:00,  1.06s/it]\n"
     ]
    }
   ],
   "source": [
    "!python val_extraction.py \\\n",
    "    --save_path evaluation \\\n",
    "    --model_type KPGrouping \\\n",
    "    --data_dir \"./img/\" \\\n",
    "    --cache_path \"./cache/\" \\\n",
    "    --trained_model_iter \"best\""
   ]
  },
  {
   "cell_type": "code",
   "execution_count": 156,
   "metadata": {},
   "outputs": [],
   "source": [
    "import json\n",
    "\n",
    "with open(\"evaluation/KPGroupingbest.json\", \"r\") as f:\n",
    "  asd = json.load(f)"
   ]
  },
  {
   "cell_type": "code",
   "execution_count": null,
   "metadata": {},
   "outputs": [],
   "source": [
    "import matplotlib.pyplot as plt\n",
    "\n",
    "img1 = list(asd.keys())[1]\n",
    "\n",
    "img = plt.imread('img/images/val/' + img1)\n",
    "plt.gray()\n",
    "plt.imshow(img)"
   ]
  },
  {
   "cell_type": "code",
   "execution_count": null,
   "metadata": {},
   "outputs": [],
   "source": [
    "from matplotlib.patches import Circle\n",
    "from matplotlib.patches import Rectangle\n",
    "patches = []\n",
    "\n",
    "fig, ax = plt.subplots(1, figsize=(10,10))\n",
    "# ax.set_axis_off()\n",
    "\n",
    "patch_size = 2\n",
    "\n",
    "for p in asd[img1][0]['0']:\n",
    "  if p[0] > 0.4:\n",
    "    patches.append(Circle((p[2], p[3] ), radius=patch_size, color='red'))\n",
    "    plt.text(p[2], p[3], f\"{p[0]:.2f}\")\n",
    "\n",
    "for p in asd[img1][1]['0']:\n",
    "  if p[0] > 0.4:\n",
    "    patches.append(Rectangle((p[2]-patch_size, p[3]-patch_size), patch_size*2,patch_size*2, color='red'))\n",
    "    plt.text(p[2], p[3], f\"{p[0]:.2f}\")\n",
    "\n",
    "for p in asd[img1][0]['1']:\n",
    "  if p[0] > 0.4:\n",
    "    patches.append(Circle((p[2], p[3] ), radius=patch_size, color='green'))\n",
    "    plt.text(p[2], p[3], f\"{p[0]:.2f}\")\n",
    "\n",
    "for p in asd[img1][1]['1']:\n",
    "  if p[0] > 0.4:\n",
    "    patches.append(Rectangle((p[2]-patch_size, p[3]-patch_size), patch_size*2,patch_size*2, color='green'))\n",
    "    plt.text(p[2], p[3], f\"{p[0]:.2f}\")\n",
    "\n",
    "for p in asd[img1][0]['2']:\n",
    "  if p[0] > 0.4:\n",
    "    patches.append(Circle((p[2], p[3] ), radius=patch_size, color='blue'))\n",
    "    plt.text(p[2], p[3], f\"{p[0]:.2f}\")\n",
    "\n",
    "for p in asd[img1][1]['2']:\n",
    "  if p[0] > 0.4:\n",
    "    patches.append(Rectangle((p[2]-patch_size, p[3]-patch_size), patch_size*2,patch_size*2, color='blue'))\n",
    "    plt.text(p[2], p[3], f\"{p[0]:.2f}\")\n",
    "\n",
    "for p in patches:\n",
    "    ax.add_patch(p)\n",
    "\n",
    "ax.imshow(img)\n"
   ]
  },
  {
   "cell_type": "code",
   "execution_count": null,
   "metadata": {},
   "outputs": [],
   "source": [
    "from matplotlib.patches import Circle\n",
    "from matplotlib.patches import Rectangle\n",
    "patches = []\n",
    "\n",
    "fig, ax = plt.subplots(1, figsize=(8,8))\n",
    "# ax.set_axis_off()\n",
    "\n",
    "\n",
    "for n, p in enumerate(asd[img1][2][3:4]):\n",
    "  for i in range((len(p) - 2) //2):\n",
    "    if p[-2] > 0. and p[-1] == 0:\n",
    "      patches.append(Circle((p[2*i], p[(2*i)+1] ), radius=2, color='red'))\n",
    "      plt.text(p[2*i], p[(2*i)+1], f\"{n} group\")\n",
    "\n",
    "    elif p[-2] > 0. and p[-1] == 1:\n",
    "      patches.append(Circle((p[2*i], p[(2*i)+1] ), radius=2, color='green'))\n",
    "      plt.text(p[2*i], p[(2*i)+1], f\"{n} group\")\n",
    "\n",
    "    elif p[-2] > 0. and p[-1] == 2:\n",
    "      patches.append(Circle((p[2*i], p[(2*i)+1] ), radius=2, color='blue'))\n",
    "      plt.text(p[2*i], p[(2*i)+1], f\"{n} group\")\n",
    "\n",
    "\n",
    "for p in patches:\n",
    "    ax.add_patch(p)\n",
    "\n",
    "\n",
    "ax.imshow(img)"
   ]
  },
  {
   "cell_type": "code",
   "execution_count": null,
   "metadata": {},
   "outputs": [],
   "source": [
    "asd[img1][2]"
   ]
  }
 ],
 "metadata": {
  "kernelspec": {
   "display_name": "pjt",
   "language": "python",
   "name": "python3"
  },
  "language_info": {
   "codemirror_mode": {
    "name": "ipython",
    "version": 3
   },
   "file_extension": ".py",
   "mimetype": "text/x-python",
   "name": "python",
   "nbconvert_exporter": "python",
   "pygments_lexer": "ipython3",
   "version": "3.11.9"
  }
 },
 "nbformat": 4,
 "nbformat_minor": 2
}
